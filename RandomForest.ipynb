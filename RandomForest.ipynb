{
  "nbformat": 4,
  "nbformat_minor": 0,
  "metadata": {
    "colab": {
      "name": "RandomForest.ipynb",
      "provenance": [],
      "collapsed_sections": [
        "kSUP5nDzcL89"
      ],
      "authorship_tag": "ABX9TyPNCNVmuKWMYuZ8OmBzkqyJ",
      "include_colab_link": true
    },
    "kernelspec": {
      "name": "python3",
      "display_name": "Python 3"
    },
    "language_info": {
      "name": "python"
    }
  },
  "cells": [
    {
      "cell_type": "markdown",
      "metadata": {
        "id": "view-in-github",
        "colab_type": "text"
      },
      "source": [
        "<a href=\"https://colab.research.google.com/github/jongeunShin95/Ensemble_RandomForest/blob/main/RandomForest.ipynb\" target=\"_parent\"><img src=\"https://colab.research.google.com/assets/colab-badge.svg\" alt=\"Open In Colab\"/></a>"
      ]
    },
    {
      "cell_type": "code",
      "metadata": {
        "id": "BTXYRAPSbPAD"
      },
      "source": [
        "import os\n",
        "import pandas as pd\n",
        "import numpy as np\n",
        "from sklearn.model_selection import train_test_split"
      ],
      "execution_count": null,
      "outputs": []
    },
    {
      "cell_type": "markdown",
      "metadata": {
        "id": "kSUP5nDzcL89"
      },
      "source": [
        "### 데이터 불러오기"
      ]
    },
    {
      "cell_type": "code",
      "metadata": {
        "colab": {
          "base_uri": "https://localhost:8080/"
        },
        "id": "IBVfL1u7cPJ8",
        "outputId": "f24706f4-bc97-4e63-abbb-571bbb21564f"
      },
      "source": [
        "df = pd.read_csv(\"./spotify.csv\")\n",
        "print(df.head())\n",
        "print(df.info())"
      ],
      "execution_count": null,
      "outputs": [
        {
          "output_type": "stream",
          "name": "stdout",
          "text": [
            "   danceability  ...                                      song_name\n",
            "0         0.831  ...                            Mercury: Retrograde\n",
            "1         0.719  ...                                      Pathology\n",
            "2         0.850  ...                                       Symbiote\n",
            "3         0.476  ...  ProductOfDrugs (Prod. The Virus and Antidote)\n",
            "4         0.798  ...                                          Venom\n",
            "\n",
            "[5 rows x 13 columns]\n",
            "<class 'pandas.core.frame.DataFrame'>\n",
            "RangeIndex: 42305 entries, 0 to 42304\n",
            "Data columns (total 13 columns):\n",
            " #   Column            Non-Null Count  Dtype  \n",
            "---  ------            --------------  -----  \n",
            " 0   danceability      42305 non-null  float64\n",
            " 1   energy            42305 non-null  float64\n",
            " 2   key               42305 non-null  int64  \n",
            " 3   loudness          42305 non-null  float64\n",
            " 4   speechiness       42305 non-null  float64\n",
            " 5   acousticness      42305 non-null  float64\n",
            " 6   instrumentalness  42305 non-null  float64\n",
            " 7   liveness          42305 non-null  float64\n",
            " 8   valence           42305 non-null  float64\n",
            " 9   tempo             42305 non-null  float64\n",
            " 10  duration_ms       42305 non-null  int64  \n",
            " 11  genre             42305 non-null  object \n",
            " 12  song_name         21519 non-null  object \n",
            "dtypes: float64(9), int64(2), object(2)\n",
            "memory usage: 4.2+ MB\n",
            "None\n"
          ]
        }
      ]
    },
    {
      "cell_type": "markdown",
      "metadata": {
        "id": "WvcCqfsGcyO8"
      },
      "source": [
        "### 테스트 데이터셋 분류"
      ]
    },
    {
      "cell_type": "code",
      "metadata": {
        "id": "4aVjcMJodTos"
      },
      "source": [
        "from sklearn.compose import make_column_transformer\n",
        "\n",
        "\n",
        "X = df.drop(['genre', 'song_name'], axis = 1) # 해당 변수는 지움\n",
        "y = df['genre'] # 정답 데이터 추출"
      ],
      "execution_count": null,
      "outputs": []
    },
    {
      "cell_type": "code",
      "metadata": {
        "id": "ns1ZusfldZFp"
      },
      "source": [
        "# 데이터셋 분리\n",
        "from sklearn.model_selection import train_test_split\n",
        "X_train, X_test, y_train, y_test = train_test_split(X, y, test_size = 0.20)"
      ],
      "execution_count": null,
      "outputs": []
    },
    {
      "cell_type": "markdown",
      "metadata": {
        "id": "n5Mke8wdd-Ik"
      },
      "source": [
        "### 모델에 적용 및 결과 확인"
      ]
    },
    {
      "cell_type": "code",
      "metadata": {
        "colab": {
          "base_uri": "https://localhost:8080/"
        },
        "id": "sJ81xEvweBd0",
        "outputId": "22cd42d6-4b2c-4fb9-ec4b-a8948e3ffe63"
      },
      "source": [
        "from sklearn.ensemble import RandomForestClassifier\n",
        "from sklearn.metrics import accuracy_score\n",
        "\n",
        "random_forest_model1 = RandomForestClassifier(n_estimators=20, # tree 수\n",
        "                                              max_depth=5, # 트리 최대 깊이\n",
        "                                              random_state=42) # 랜덤 시드값\n",
        "\n",
        "model1 = random_forest_model1.fit(X_train, y_train)\n",
        "predict1 = model1.predict(X_test)\n",
        "print(\"Accuracy: %.2f\" % (accuracy_score(y_test, predict1) * 100), \"%\")"
      ],
      "execution_count": null,
      "outputs": [
        {
          "output_type": "stream",
          "name": "stdout",
          "text": [
            "Accuracy: 59.38 %\n"
          ]
        }
      ]
    },
    {
      "cell_type": "code",
      "metadata": {
        "colab": {
          "base_uri": "https://localhost:8080/"
        },
        "id": "5APWRM41kQ6C",
        "outputId": "2aa84799-d3d0-4cf6-9993-3d632ff2fd79"
      },
      "source": [
        "random_forest_model2 = RandomForestClassifier(n_estimators=300,\n",
        "                                              max_depth=20,\n",
        "                                              random_state=42)\n",
        "model2 = random_forest_model2.fit(X_train, y_train)\n",
        "predict2 = model2.predict(X_test)\n",
        "print(\"Accuracy: %.2f\" % (accuracy_score(y_test, predict2) * 100), \"%\")"
      ],
      "execution_count": null,
      "outputs": [
        {
          "output_type": "stream",
          "name": "stdout",
          "text": [
            "Accuracy: 66.59 %\n"
          ]
        }
      ]
    }
  ]
}